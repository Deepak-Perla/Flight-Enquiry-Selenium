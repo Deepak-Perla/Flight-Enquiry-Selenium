{
 "cells": [
  {
   "cell_type": "code",
   "execution_count": 1,
   "metadata": {},
   "outputs": [],
   "source": [
    "from selenium import webdriver\n",
    "from selenium.webdriver.common.action_chains import ActionChains\n",
    "from selenium.webdriver.common.keys import Keys\n",
    "import time\n",
    "import random"
   ]
  },
  {
   "cell_type": "code",
   "execution_count": 2,
   "metadata": {},
   "outputs": [
    {
     "name": "stdout",
     "output_type": "stream",
     "text": [
      "Enter departure place: delhi\n",
      "Enter arrival place: maa\n"
     ]
    }
   ],
   "source": [
    "dep = input(\"Enter departure place: \")\n",
    "arr = input(\"Enter arrival place: \")"
   ]
  },
  {
   "cell_type": "code",
   "execution_count": 3,
   "metadata": {},
   "outputs": [
    {
     "name": "stdout",
     "output_type": "stream",
     "text": [
      "Enter date (DD/MM/YYYY) : 20/09/2021\n",
      "20 09 2021\n",
      "Do you want a Return flight too? (Y/N): n\n"
     ]
    }
   ],
   "source": [
    "date,month,year = input('Enter date (DD/MM/YYYY) : ').split('/')\n",
    "print(date,month,year)\n",
    "\n",
    "oneway = False if input('Do you want a Return flight too? (Y/N): ').lower() == 'y' else True\n"
   ]
  },
  {
   "cell_type": "code",
   "execution_count": 4,
   "metadata": {},
   "outputs": [],
   "source": [
    "if not oneway:\n",
    "    date_r,month_r,year_r = input('Enter return date (DD/MM/YYYY) : ').split('/')\n",
    "\n",
    "driver=webdriver.Chrome(executable_path=\"C:\\Program Files (x86)\\chromedriver.exe\")\n",
    "driver.get('https://www.expedia.co.in/Flights')\n",
    "time.sleep(5)\n",
    "\n",
    "element = driver.find_element_by_xpath('/html/body/div[1]/div[1]/div/div[1]/div/div[1]/div[1]/div/div/div/form/div[2]/div[1]/div[1]/div[2]/div[1]/div/div[1]/div/div/div/div/div[1]/button')\n",
    "action = ActionChains(driver).click(on_element = element).perform()\n",
    "time.sleep(2)\n",
    "element = driver.find_element_by_xpath('//*[@id=\"location-field-leg1-origin\"]')\n",
    "element.send_keys(dep)\n",
    "element.send_keys(Keys.RETURN)\n",
    "\n",
    "\n",
    "time.sleep(1)\n",
    "\n",
    "element = driver.find_element_by_xpath('/html/body/div[1]/div[1]/div/div[1]/div/div[1]/div[1]/div/div/div/form/div[2]/div[1]/div[1]/div[2]/div[1]/div/div[2]/div/div/div/div/div[1]/button')\n",
    "action = ActionChains(driver).click(on_element = element).perform()\n",
    "time.sleep(2)\n",
    "element = driver.find_element_by_xpath('//*[@id=\"location-field-leg1-destination\"]')\n",
    "element.send_keys(arr)\n",
    "element.send_keys(Keys.RETURN)\n",
    "\n",
    "\n",
    "time.sleep(2)"
   ]
  },
  {
   "cell_type": "code",
   "execution_count": 5,
   "metadata": {},
   "outputs": [],
   "source": [
    "\n",
    "months = {  \n",
    "    '01':'January',\n",
    "    '02':'February',\n",
    "    '03':'March',\n",
    "    '04':'April',\n",
    "    '05':'May',\n",
    "    '06':'June',\n",
    "    '07':'July',\n",
    "    '08':'August',\n",
    "    '09':'September',\n",
    "    '10':'October',\n",
    "    '11':'November',\n",
    "    '12':'December'\n",
    "}\n",
    "\n",
    "short_month = {\n",
    "    'January'  :'Jan',\n",
    "    'February' :'Feb',\n",
    "    'March'    :'Mar',\n",
    "    'April'    :'Apr',\n",
    "    'May'      :'May',\n",
    "    'June'     :'Jun',\n",
    "    'July'     :'Jul',\n",
    "    'August'   :'Aug',\n",
    "    'September':'Sep',\n",
    "    'October'  :'Oct',\n",
    "    'November' :'Nov',\n",
    "    'December' :'Dec'\n",
    "}\n",
    "\n",
    "required_month = months[month]+' '+year\n",
    "\n",
    "if not oneway:\n",
    "    required_month_return = months[month_r]+' '+year_r\n",
    "\n",
    "time.sleep(2)\n",
    "\n",
    "if oneway:\n",
    "\n",
    "    element = driver.find_element_by_xpath('/html/body/div[1]/div[1]/div/div[1]/div/div[1]/div[1]/div/div/div/form/div[2]/ul/div[1]/li[2]/a')\n",
    "    action = ActionChains(driver).click(on_element = element).perform() #this is for oneway\n",
    "\n",
    "    element = driver.find_element_by_xpath('//*[@id=\"d1-btn\"]')\n",
    "    action = ActionChains(driver).click(on_element = element).perform()\n",
    "\n",
    "    element = driver.find_element_by_xpath('/html/body/div[1]/div[1]/div/div[1]/div/div[1]/div[1]/div/div/div/form/div[2]/div[1]/div[2]/div[2]/div[2]/div/div/div/div/div[2]/div/div[2]/div[2]/div[1]/h2')\n",
    "    month_button = driver.find_element_by_xpath('/html/body/div[1]/div[1]/div/div[1]/div/div[1]/div[1]/div/div/div/form/div[2]/div[1]/div[2]/div[2]/div[2]/div/div/div/div/div[2]/div/div[2]/div[1]/button[2]')\n",
    "\n",
    "    while element.text != required_month:\n",
    "        month_button.click()\n",
    "        element = driver.find_element_by_xpath('/html/body/div[1]/div[1]/div/div[1]/div/div[1]/div[1]/div/div/div/form/div[2]/div[1]/div[2]/div[2]/div[2]/div/div/div/div/div[2]/div/div[2]/div[2]/div[1]/h2')\n",
    "        time.sleep(2)\n",
    "\n",
    "    elements = driver.find_elements_by_xpath(\"//table[@class='uitk-date-picker-weeks']//tbody//tr\")\n",
    "    for row in elements:\n",
    "        list = row.find_elements_by_xpath(\"./td/button\")\n",
    "        for button in list:\n",
    "            if button.get_attribute('aria-label') == date+' '+short_month[months[month]]+' '+year:\n",
    "                button.click()\n",
    "                break   \n",
    "\n",
    "    element = driver.find_element_by_xpath('/html/body/div[1]/div[1]/div/div[1]/div/div[1]/div[1]/div/div/div/form/div[2]/div[1]/div[2]/div[2]/div[2]/div/div/div/div/div[2]/div/div[3]/button')\n",
    "    action = ActionChains(driver).click(on_element = element).perform()  #this is to click date\n",
    "\n",
    "else:\n",
    "\n",
    "    element = driver.find_element_by_xpath('//*[@id=\"d1-btn\"]')\n",
    "    element.click() #for start date\n",
    "\n",
    "    element = driver.find_element_by_xpath('/html/body/div[1]/div[1]/div/div[1]/div/div[1]/div[1]/div/div/div/form/div[2]/div[1]/div[1]/div[2]/div[2]/div/div/div[1]/div/div[2]/div/div[2]/div[2]/div[1]/h2')\n",
    "    month_button = driver.find_element_by_xpath('/html/body/div[1]/div[1]/div/div[1]/div/div[1]/div[1]/div/div/div/form/div[2]/div[1]/div[1]/div[2]/div[2]/div/div/div[1]/div/div[2]/div/div[2]/div[1]/button[2]')\n",
    "\n",
    "    while element.text != required_month:\n",
    "        month_button.click()\n",
    "        element = driver.find_element_by_xpath('/html/body/div[1]/div[1]/div/div[1]/div/div[1]/div[1]/div/div/div/form/div[2]/div[1]/div[1]/div[2]/div[2]/div/div/div[1]/div/div[2]/div/div[2]/div[2]/div[1]/h2')\n",
    "        time.sleep(2)\n",
    "\n",
    "    elements = driver.find_elements_by_xpath(\"//table[@class='uitk-date-picker-weeks']//tbody//tr\")\n",
    "    for row in elements:\n",
    "        list = row.find_elements_by_xpath(\"./td/button\")\n",
    "        for button in list:\n",
    "            if button.get_attribute('aria-label') == date+' '+short_month[months[month]]+' '+year:\n",
    "                button.click()\n",
    "                break   \n",
    "            if button.get_attribute('aria-label') == date_r+' '+short_month[months[month_r]]+' '+year_r:\n",
    "                button.click()\n",
    "                break\n",
    "\n",
    "    element = driver.find_element_by_xpath('/html/body/div[1]/div[1]/div/div[1]/div/div[1]/div[1]/div/div/div/form/div[2]/div[1]/div[1]/div[2]/div[2]/div/div/div[1]/div/div[2]/div/div[3]/button')\n",
    "    element.click()  #this is to click \"done\" in date\n",
    "\n",
    "\n",
    "element = driver.find_element_by_xpath('/html/body/div[1]/div[1]/div/div[1]/div/div[1]/div[1]/div/div/div/form/div[3]/div/button')\n",
    "action = ActionChains(driver).click(on_element = element).perform() #this is for search button\n",
    "\n",
    "time.sleep(10)"
   ]
  },
  {
   "cell_type": "code",
   "execution_count": 6,
   "metadata": {},
   "outputs": [
    {
     "name": "stdout",
     "output_type": "stream",
     "text": [
      "Click here to view Flights:  https://www.expedia.co.in/Flights-Search?flight-type=on&mode=search&trip=oneway&leg1=from%3Adelhi%2Cto%3Amaa%2Cdeparture%3A20%2F09%2F2021TANYT&options=cabinclass%3Aeconomy&passengers=children%3A0%2Cadults%3A1%2Cseniors%3A0%2Cinfantinlap%3AY&fromDate=20%2F09%2F2021&d1=2021-09-20\n"
     ]
    }
   ],
   "source": [
    "get_url = driver.current_url\n",
    "print(\"Click here to view Flights: \\n\", get_url)\n",
    "\n",
    "driver.close()"
   ]
  },
  {
   "cell_type": "code",
   "execution_count": null,
   "metadata": {},
   "outputs": [],
   "source": []
  },
  {
   "cell_type": "code",
   "execution_count": null,
   "metadata": {},
   "outputs": [],
   "source": []
  }
 ],
 "metadata": {
  "kernelspec": {
   "display_name": "Python 3",
   "language": "python",
   "name": "python3"
  },
  "language_info": {
   "codemirror_mode": {
    "name": "ipython",
    "version": 3
   },
   "file_extension": ".py",
   "mimetype": "text/x-python",
   "name": "python",
   "nbconvert_exporter": "python",
   "pygments_lexer": "ipython3",
   "version": "3.8.5"
  }
 },
 "nbformat": 4,
 "nbformat_minor": 4
}
